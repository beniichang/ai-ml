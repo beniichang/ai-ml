{
 "cells": [
  {
   "cell_type": "markdown",
   "id": "723facb3",
   "metadata": {},
   "source": [
    "# Visualizing NLP Vectorized Text in Jupyter Notebook\n",
    "\n",
    "This notebook demonstrates how to vectorize text data and visualize it using various techniques in Python."
   ]
  },
  {
   "cell_type": "markdown",
   "id": "09978777",
   "metadata": {},
   "source": [
    "## 1. Import Required Libraries\n",
    "\n",
    "We will use pandas, matplotlib, seaborn, scikit-learn, and other libraries for vectorization and visualization."
   ]
  },
  {
   "cell_type": "code",
   "execution_count": 1,
   "id": "77b4de79",
   "metadata": {},
   "outputs": [],
   "source": [
    "import pandas as pd\n",
    "import numpy as np\n",
    "import matplotlib.pyplot as plt\n",
    "import seaborn as sns\n",
    "\n",
    "from sklearn.feature_extraction.text import CountVectorizer, TfidfVectorizer\n",
    "from sklearn.metrics.pairwise import cosine_similarity\n",
    "from sklearn.manifold import TSNE\n",
    "\n",
    "# Set plot style\n",
    "sns.set(style=\"whitegrid\")\n",
    "%matplotlib inline"
   ]
  },
  {
   "cell_type": "markdown",
   "id": "74abd9e0",
   "metadata": {},
   "source": [
    "## 2. Prepare Example Documents\n",
    "\n",
    "Let's define a small set of example text documents to work with."
   ]
  },
  {
   "cell_type": "code",
   "execution_count": 2,
   "id": "8358a62e",
   "metadata": {},
   "outputs": [],
   "source": [
    "documents = [\n",
    "    \"The economy is working better than ever.\",\n",
    "    \"The president addressed the nation on the economy.\",\n",
    "    \"SpaceX launched a new rocket into orbit.\",\n",
    "    \"NASA is planning a mission to Mars.\",\n",
    "    \"The stock market reached an all-time high.\",\n",
    "    \"Astronauts train for space missions at NASA.\"\n",
    "]"
   ]
  },
  {
   "cell_type": "markdown",
   "id": "31fab373",
   "metadata": {},
   "source": [
    "## 3. Vectorize Text Data\n",
    "\n",
    "We'll use `CountVectorizer` to convert the documents into a document-term matrix."
   ]
  },
  {
   "cell_type": "code",
   "execution_count": 3,
   "id": "3d14ec2d",
   "metadata": {},
   "outputs": [],
   "source": [
    "vectorizer = CountVectorizer(stop_words='english')\n",
    "X = vectorizer.fit_transform(documents)\n",
    "feature_names = vectorizer.get_feature_names_out()"
   ]
  },
  {
   "cell_type": "code",
   "execution_count": 4,
   "id": "9d610e3f",
   "metadata": {},
   "outputs": [
    {
     "data": {
      "text/plain": [
       "array(['addressed', 'astronauts', 'better', 'economy', 'high', 'launched',\n",
       "       'market', 'mars', 'mission', 'missions', 'nasa', 'nation', 'new',\n",
       "       'orbit', 'planning', 'president', 'reached', 'rocket', 'space',\n",
       "       'spacex', 'stock', 'time', 'train', 'working'], dtype=object)"
      ]
     },
     "execution_count": 4,
     "metadata": {},
     "output_type": "execute_result"
    }
   ],
   "source": [
    "feature_names"
   ]
  },
  {
   "cell_type": "markdown",
   "id": "852e1cbe",
   "metadata": {},
   "source": [
    "## 4. Visualize Document-Term Matrix as a DataFrame\n",
    "\n",
    "Let's convert the sparse matrix to a pandas DataFrame to inspect the vectorized representation."
   ]
  },
  {
   "cell_type": "code",
   "execution_count": 5,
   "id": "f2536d98",
   "metadata": {},
   "outputs": [
    {
     "data": {
      "text/html": [
       "<div>\n",
       "<style scoped>\n",
       "    .dataframe tbody tr th:only-of-type {\n",
       "        vertical-align: middle;\n",
       "    }\n",
       "\n",
       "    .dataframe tbody tr th {\n",
       "        vertical-align: top;\n",
       "    }\n",
       "\n",
       "    .dataframe thead th {\n",
       "        text-align: right;\n",
       "    }\n",
       "</style>\n",
       "<table border=\"1\" class=\"dataframe\">\n",
       "  <thead>\n",
       "    <tr style=\"text-align: right;\">\n",
       "      <th></th>\n",
       "      <th>addressed</th>\n",
       "      <th>astronauts</th>\n",
       "      <th>better</th>\n",
       "      <th>economy</th>\n",
       "      <th>high</th>\n",
       "      <th>launched</th>\n",
       "      <th>market</th>\n",
       "      <th>mars</th>\n",
       "      <th>mission</th>\n",
       "      <th>missions</th>\n",
       "      <th>...</th>\n",
       "      <th>planning</th>\n",
       "      <th>president</th>\n",
       "      <th>reached</th>\n",
       "      <th>rocket</th>\n",
       "      <th>space</th>\n",
       "      <th>spacex</th>\n",
       "      <th>stock</th>\n",
       "      <th>time</th>\n",
       "      <th>train</th>\n",
       "      <th>working</th>\n",
       "    </tr>\n",
       "  </thead>\n",
       "  <tbody>\n",
       "    <tr>\n",
       "      <th>Doc 1</th>\n",
       "      <td>0</td>\n",
       "      <td>0</td>\n",
       "      <td>1</td>\n",
       "      <td>1</td>\n",
       "      <td>0</td>\n",
       "      <td>0</td>\n",
       "      <td>0</td>\n",
       "      <td>0</td>\n",
       "      <td>0</td>\n",
       "      <td>0</td>\n",
       "      <td>...</td>\n",
       "      <td>0</td>\n",
       "      <td>0</td>\n",
       "      <td>0</td>\n",
       "      <td>0</td>\n",
       "      <td>0</td>\n",
       "      <td>0</td>\n",
       "      <td>0</td>\n",
       "      <td>0</td>\n",
       "      <td>0</td>\n",
       "      <td>1</td>\n",
       "    </tr>\n",
       "    <tr>\n",
       "      <th>Doc 2</th>\n",
       "      <td>1</td>\n",
       "      <td>0</td>\n",
       "      <td>0</td>\n",
       "      <td>1</td>\n",
       "      <td>0</td>\n",
       "      <td>0</td>\n",
       "      <td>0</td>\n",
       "      <td>0</td>\n",
       "      <td>0</td>\n",
       "      <td>0</td>\n",
       "      <td>...</td>\n",
       "      <td>0</td>\n",
       "      <td>1</td>\n",
       "      <td>0</td>\n",
       "      <td>0</td>\n",
       "      <td>0</td>\n",
       "      <td>0</td>\n",
       "      <td>0</td>\n",
       "      <td>0</td>\n",
       "      <td>0</td>\n",
       "      <td>0</td>\n",
       "    </tr>\n",
       "    <tr>\n",
       "      <th>Doc 3</th>\n",
       "      <td>0</td>\n",
       "      <td>0</td>\n",
       "      <td>0</td>\n",
       "      <td>0</td>\n",
       "      <td>0</td>\n",
       "      <td>1</td>\n",
       "      <td>0</td>\n",
       "      <td>0</td>\n",
       "      <td>0</td>\n",
       "      <td>0</td>\n",
       "      <td>...</td>\n",
       "      <td>0</td>\n",
       "      <td>0</td>\n",
       "      <td>0</td>\n",
       "      <td>1</td>\n",
       "      <td>0</td>\n",
       "      <td>1</td>\n",
       "      <td>0</td>\n",
       "      <td>0</td>\n",
       "      <td>0</td>\n",
       "      <td>0</td>\n",
       "    </tr>\n",
       "    <tr>\n",
       "      <th>Doc 4</th>\n",
       "      <td>0</td>\n",
       "      <td>0</td>\n",
       "      <td>0</td>\n",
       "      <td>0</td>\n",
       "      <td>0</td>\n",
       "      <td>0</td>\n",
       "      <td>0</td>\n",
       "      <td>1</td>\n",
       "      <td>1</td>\n",
       "      <td>0</td>\n",
       "      <td>...</td>\n",
       "      <td>1</td>\n",
       "      <td>0</td>\n",
       "      <td>0</td>\n",
       "      <td>0</td>\n",
       "      <td>0</td>\n",
       "      <td>0</td>\n",
       "      <td>0</td>\n",
       "      <td>0</td>\n",
       "      <td>0</td>\n",
       "      <td>0</td>\n",
       "    </tr>\n",
       "    <tr>\n",
       "      <th>Doc 5</th>\n",
       "      <td>0</td>\n",
       "      <td>0</td>\n",
       "      <td>0</td>\n",
       "      <td>0</td>\n",
       "      <td>1</td>\n",
       "      <td>0</td>\n",
       "      <td>1</td>\n",
       "      <td>0</td>\n",
       "      <td>0</td>\n",
       "      <td>0</td>\n",
       "      <td>...</td>\n",
       "      <td>0</td>\n",
       "      <td>0</td>\n",
       "      <td>1</td>\n",
       "      <td>0</td>\n",
       "      <td>0</td>\n",
       "      <td>0</td>\n",
       "      <td>1</td>\n",
       "      <td>1</td>\n",
       "      <td>0</td>\n",
       "      <td>0</td>\n",
       "    </tr>\n",
       "    <tr>\n",
       "      <th>Doc 6</th>\n",
       "      <td>0</td>\n",
       "      <td>1</td>\n",
       "      <td>0</td>\n",
       "      <td>0</td>\n",
       "      <td>0</td>\n",
       "      <td>0</td>\n",
       "      <td>0</td>\n",
       "      <td>0</td>\n",
       "      <td>0</td>\n",
       "      <td>1</td>\n",
       "      <td>...</td>\n",
       "      <td>0</td>\n",
       "      <td>0</td>\n",
       "      <td>0</td>\n",
       "      <td>0</td>\n",
       "      <td>1</td>\n",
       "      <td>0</td>\n",
       "      <td>0</td>\n",
       "      <td>0</td>\n",
       "      <td>1</td>\n",
       "      <td>0</td>\n",
       "    </tr>\n",
       "  </tbody>\n",
       "</table>\n",
       "<p>6 rows × 24 columns</p>\n",
       "</div>"
      ],
      "text/plain": [
       "       addressed  astronauts  better  economy  high  launched  market  mars  \\\n",
       "Doc 1          0           0       1        1     0         0       0     0   \n",
       "Doc 2          1           0       0        1     0         0       0     0   \n",
       "Doc 3          0           0       0        0     0         1       0     0   \n",
       "Doc 4          0           0       0        0     0         0       0     1   \n",
       "Doc 5          0           0       0        0     1         0       1     0   \n",
       "Doc 6          0           1       0        0     0         0       0     0   \n",
       "\n",
       "       mission  missions  ...  planning  president  reached  rocket  space  \\\n",
       "Doc 1        0         0  ...         0          0        0       0      0   \n",
       "Doc 2        0         0  ...         0          1        0       0      0   \n",
       "Doc 3        0         0  ...         0          0        0       1      0   \n",
       "Doc 4        1         0  ...         1          0        0       0      0   \n",
       "Doc 5        0         0  ...         0          0        1       0      0   \n",
       "Doc 6        0         1  ...         0          0        0       0      1   \n",
       "\n",
       "       spacex  stock  time  train  working  \n",
       "Doc 1       0      0     0      0        1  \n",
       "Doc 2       0      0     0      0        0  \n",
       "Doc 3       1      0     0      0        0  \n",
       "Doc 4       0      0     0      0        0  \n",
       "Doc 5       0      1     1      0        0  \n",
       "Doc 6       0      0     0      1        0  \n",
       "\n",
       "[6 rows x 24 columns]"
      ]
     },
     "execution_count": 5,
     "metadata": {},
     "output_type": "execute_result"
    }
   ],
   "source": [
    "dtm_df = pd.DataFrame(X.toarray(), columns=feature_names)\n",
    "dtm_df.index = [f\"Doc {i+1}\" for i in range(len(documents))]\n",
    "dtm_df"
   ]
  },
  {
   "cell_type": "markdown",
   "id": "c5d1e5f0",
   "metadata": {},
   "source": [
    "## 5. Visualize Word Frequencies with Bar Plot\n",
    "\n",
    "We can sum the word counts across all documents and plot the most frequent words."
   ]
  },
  {
   "cell_type": "code",
   "execution_count": 6,
   "id": "409419ab",
   "metadata": {},
   "outputs": [
    {
     "data": {
      "image/png": "[encoded data removed]",
      "text/plain": [
       "<Figure size 576x360 with 1 Axes>"
      ]
     },
     "metadata": {
      "needs_background": "light"
     },
     "output_type": "display_data"
    }
   ],
   "source": [
    "word_counts = np.asarray(X.sum(axis=0)).flatten()\n",
    "word_freq = pd.Series(word_counts, index=feature_names)\n",
    "top_n = 10\n",
    "top_words = word_freq.sort_values(ascending=False).head(top_n)\n",
    "\n",
    "plt.figure(figsize=(8, 5))\n",
    "sns.barplot(x=top_words.values, y=top_words.index, palette=\"viridis\")\n",
    "plt.title(\"Top Word Frequencies\")\n",
    "plt.xlabel(\"Count\")\n",
    "plt.ylabel(\"Word\")\n",
    "plt.show()"
   ]
  },
  {
   "cell_type": "markdown",
   "id": "727dbfb2",
   "metadata": {},
   "source": [
    "## 6. Visualize Document Similarities with Heatmap\n",
    "\n",
    "Let's compute pairwise cosine similarities between documents and visualize them using a heatmap."
   ]
  },
  {
   "cell_type": "code",
   "execution_count": 7,
   "id": "a0a4388c",
   "metadata": {},
   "outputs": [
    {
     "data": {
      "image/png": "[encoded data removed]",
      "text/plain": [
       "<Figure size 504x360 with 2 Axes>"
      ]
     },
     "metadata": {
      "needs_background": "light"
     },
     "output_type": "display_data"
    }
   ],
   "source": [
    "similarity_matrix = cosine_similarity(X)\n",
    "plt.figure(figsize=(7, 5))\n",
    "sns.heatmap(similarity_matrix, annot=True, cmap=\"Blues\", xticklabels=[f\"Doc {i+1}\" for i in range(len(documents))], yticklabels=[f\"Doc {i+1}\" for i in range(len(documents))])\n",
    "plt.title(\"Document Similarity (Cosine)\")\n",
    "plt.show()"
   ]
  },
  {
   "cell_type": "markdown",
   "id": "2a0cc6b7",
   "metadata": {},
   "source": [
    "## 7. Visualize Word Embeddings with t-SNE\n",
    "\n",
    "We'll use t-SNE to reduce the dimensionality of the word vectors and plot them in 2D space."
   ]
  },
  {
   "cell_type": "code",
   "execution_count": 8,
   "id": "7c3687e4",
   "metadata": {},
   "outputs": [
    {
     "name": "stderr",
     "output_type": "stream",
     "text": [
      "c:\\Users\\adven\\.conda\\envs\\py39\\lib\\site-packages\\sklearn\\manifold\\_t_sne.py:795: FutureWarning: The default initialization in TSNE will change from 'random' to 'pca' in 1.2.\n",
      "  warnings.warn(\n",
      "c:\\Users\\adven\\.conda\\envs\\py39\\lib\\site-packages\\sklearn\\manifold\\_t_sne.py:805: FutureWarning: The default learning rate in TSNE will change from 200.0 to 'auto' in 1.2.\n",
      "  warnings.warn(\n"
     ]
    },
    {
     "data": {
      "image/png": "[encoded data removed]",
      "text/plain": [
       "<Figure size 576x432 with 1 Axes>"
      ]
     },
     "metadata": {
      "needs_background": "light"
     },
     "output_type": "display_data"
    }
   ],
   "source": [
    "# Transpose X to get word vectors (words as rows)\n",
    "word_vectors = X.T.toarray()\n",
    "\n",
    "# Apply t-SNE\n",
    "tsne = TSNE(n_components=2, random_state=42, perplexity=3)\n",
    "word_vecs_2d = tsne.fit_transform(word_vectors)\n",
    "\n",
    "plt.figure(figsize=(8, 6))\n",
    "plt.scatter(word_vecs_2d[:, 0], word_vecs_2d[:, 1])\n",
    "\n",
    "for i, word in enumerate(feature_names):\n",
    "    plt.annotate(word, (word_vecs_2d[i, 0], word_vecs_2d[i, 1]))\n",
    "\n",
    "plt.title(\"t-SNE Visualization of Word Vectors\")\n",
    "plt.xlabel(\"t-SNE 1\")\n",
    "plt.ylabel(\"t-SNE 2\")\n",
    "plt.show()"
   ]
  }
 ],
 "metadata": {
  "kernelspec": {
   "display_name": "py39",
   "language": "python",
   "name": "py39"
  },
  "language_info": {
   "codemirror_mode": {
    "name": "ipython",
    "version": 3
   },
   "file_extension": ".py",
   "mimetype": "text/x-python",
   "name": "python",
   "nbconvert_exporter": "python",
   "pygments_lexer": "ipython3",
   "version": "3.9.12"
  }
 },
 "nbformat": 4,
 "nbformat_minor": 5
}
