{
 "cells": [
  {
   "cell_type": "code",
   "execution_count": 1,
   "id": "19e077b7",
   "metadata": {},
   "outputs": [],
   "source": [
    "import numpy as np\n",
    "import matplotlib.pyplot as plt\n",
    "import seaborn as sns"
   ]
  },
  {
   "cell_type": "code",
   "execution_count": 2,
   "id": "1bca321e",
   "metadata": {},
   "outputs": [],
   "source": [
    "import pandas as pd\n",
    "from sklearn.feature_extraction.text import CountVectorizer\n",
    "from sklearn.decomposition import LatentDirichletAllocation"
   ]
  },
  {
   "cell_type": "code",
   "execution_count": 3,
   "id": "0153bed8",
   "metadata": {},
   "outputs": [],
   "source": [
    "# Example documents\n",
    "documents = [\n",
    "    \"The economy is working better than ever.\",\n",
    "    \"The president addressed the nation on the economy.\",\n",
    "    \"SpaceX launched a new rocket into orbit.\",\n",
    "    \"NASA is planning a mission to Mars.\",\n",
    "    \"The stock market reached an all-time high.\",\n",
    "    \"Astronauts train for space missions at NASA.\"\n",
    "]"
   ]
  },
  {
   "cell_type": "code",
   "execution_count": 4,
   "id": "96d1cb32",
   "metadata": {},
   "outputs": [],
   "source": [
    "# Vectorize the documents\n",
    "vectorizer = CountVectorizer(stop_words='english')\n",
    "X = vectorizer.fit_transform(documents)"
   ]
  },
  {
   "cell_type": "code",
   "execution_count": 5,
   "id": "9d2262f0",
   "metadata": {},
   "outputs": [
    {
     "data": {
      "text/plain": [
       "array(['addressed', 'astronauts', 'better', 'economy', 'high', 'launched',\n",
       "       'market', 'mars', 'mission', 'missions', 'nasa', 'nation', 'new',\n",
       "       'orbit', 'planning', 'president', 'reached', 'rocket', 'space',\n",
       "       'spacex', 'stock', 'time', 'train', 'working'], dtype=object)"
      ]
     },
     "execution_count": 5,
     "metadata": {},
     "output_type": "execute_result"
    }
   ],
   "source": [
    "features = vectorizer.get_feature_names_out()\n",
    "features"
   ]
  },
  {
   "cell_type": "code",
   "execution_count": 6,
   "id": "b23dbdbe",
   "metadata": {},
   "outputs": [
    {
     "data": {
      "text/html": [
       "<div>\n",
       "<style scoped>\n",
       "    .dataframe tbody tr th:only-of-type {\n",
       "        vertical-align: middle;\n",
       "    }\n",
       "\n",
       "    .dataframe tbody tr th {\n",
       "        vertical-align: top;\n",
       "    }\n",
       "\n",
       "    .dataframe thead th {\n",
       "        text-align: right;\n",
       "    }\n",
       "</style>\n",
       "<table border=\"1\" class=\"dataframe\">\n",
       "  <thead>\n",
       "    <tr style=\"text-align: right;\">\n",
       "      <th></th>\n",
       "      <th>addressed</th>\n",
       "      <th>astronauts</th>\n",
       "      <th>better</th>\n",
       "      <th>economy</th>\n",
       "      <th>high</th>\n",
       "      <th>launched</th>\n",
       "      <th>market</th>\n",
       "      <th>mars</th>\n",
       "      <th>mission</th>\n",
       "      <th>missions</th>\n",
       "      <th>...</th>\n",
       "      <th>planning</th>\n",
       "      <th>president</th>\n",
       "      <th>reached</th>\n",
       "      <th>rocket</th>\n",
       "      <th>space</th>\n",
       "      <th>spacex</th>\n",
       "      <th>stock</th>\n",
       "      <th>time</th>\n",
       "      <th>train</th>\n",
       "      <th>working</th>\n",
       "    </tr>\n",
       "  </thead>\n",
       "  <tbody>\n",
       "    <tr>\n",
       "      <th>Doc 1</th>\n",
       "      <td>0</td>\n",
       "      <td>0</td>\n",
       "      <td>1</td>\n",
       "      <td>1</td>\n",
       "      <td>0</td>\n",
       "      <td>0</td>\n",
       "      <td>0</td>\n",
       "      <td>0</td>\n",
       "      <td>0</td>\n",
       "      <td>0</td>\n",
       "      <td>...</td>\n",
       "      <td>0</td>\n",
       "      <td>0</td>\n",
       "      <td>0</td>\n",
       "      <td>0</td>\n",
       "      <td>0</td>\n",
       "      <td>0</td>\n",
       "      <td>0</td>\n",
       "      <td>0</td>\n",
       "      <td>0</td>\n",
       "      <td>1</td>\n",
       "    </tr>\n",
       "    <tr>\n",
       "      <th>Doc 2</th>\n",
       "      <td>1</td>\n",
       "      <td>0</td>\n",
       "      <td>0</td>\n",
       "      <td>1</td>\n",
       "      <td>0</td>\n",
       "      <td>0</td>\n",
       "      <td>0</td>\n",
       "      <td>0</td>\n",
       "      <td>0</td>\n",
       "      <td>0</td>\n",
       "      <td>...</td>\n",
       "      <td>0</td>\n",
       "      <td>1</td>\n",
       "      <td>0</td>\n",
       "      <td>0</td>\n",
       "      <td>0</td>\n",
       "      <td>0</td>\n",
       "      <td>0</td>\n",
       "      <td>0</td>\n",
       "      <td>0</td>\n",
       "      <td>0</td>\n",
       "    </tr>\n",
       "    <tr>\n",
       "      <th>Doc 3</th>\n",
       "      <td>0</td>\n",
       "      <td>0</td>\n",
       "      <td>0</td>\n",
       "      <td>0</td>\n",
       "      <td>0</td>\n",
       "      <td>1</td>\n",
       "      <td>0</td>\n",
       "      <td>0</td>\n",
       "      <td>0</td>\n",
       "      <td>0</td>\n",
       "      <td>...</td>\n",
       "      <td>0</td>\n",
       "      <td>0</td>\n",
       "      <td>0</td>\n",
       "      <td>1</td>\n",
       "      <td>0</td>\n",
       "      <td>1</td>\n",
       "      <td>0</td>\n",
       "      <td>0</td>\n",
       "      <td>0</td>\n",
       "      <td>0</td>\n",
       "    </tr>\n",
       "    <tr>\n",
       "      <th>Doc 4</th>\n",
       "      <td>0</td>\n",
       "      <td>0</td>\n",
       "      <td>0</td>\n",
       "      <td>0</td>\n",
       "      <td>0</td>\n",
       "      <td>0</td>\n",
       "      <td>0</td>\n",
       "      <td>1</td>\n",
       "      <td>1</td>\n",
       "      <td>0</td>\n",
       "      <td>...</td>\n",
       "      <td>1</td>\n",
       "      <td>0</td>\n",
       "      <td>0</td>\n",
       "      <td>0</td>\n",
       "      <td>0</td>\n",
       "      <td>0</td>\n",
       "      <td>0</td>\n",
       "      <td>0</td>\n",
       "      <td>0</td>\n",
       "      <td>0</td>\n",
       "    </tr>\n",
       "    <tr>\n",
       "      <th>Doc 5</th>\n",
       "      <td>0</td>\n",
       "      <td>0</td>\n",
       "      <td>0</td>\n",
       "      <td>0</td>\n",
       "      <td>1</td>\n",
       "      <td>0</td>\n",
       "      <td>1</td>\n",
       "      <td>0</td>\n",
       "      <td>0</td>\n",
       "      <td>0</td>\n",
       "      <td>...</td>\n",
       "      <td>0</td>\n",
       "      <td>0</td>\n",
       "      <td>1</td>\n",
       "      <td>0</td>\n",
       "      <td>0</td>\n",
       "      <td>0</td>\n",
       "      <td>1</td>\n",
       "      <td>1</td>\n",
       "      <td>0</td>\n",
       "      <td>0</td>\n",
       "    </tr>\n",
       "    <tr>\n",
       "      <th>Doc 6</th>\n",
       "      <td>0</td>\n",
       "      <td>1</td>\n",
       "      <td>0</td>\n",
       "      <td>0</td>\n",
       "      <td>0</td>\n",
       "      <td>0</td>\n",
       "      <td>0</td>\n",
       "      <td>0</td>\n",
       "      <td>0</td>\n",
       "      <td>1</td>\n",
       "      <td>...</td>\n",
       "      <td>0</td>\n",
       "      <td>0</td>\n",
       "      <td>0</td>\n",
       "      <td>0</td>\n",
       "      <td>1</td>\n",
       "      <td>0</td>\n",
       "      <td>0</td>\n",
       "      <td>0</td>\n",
       "      <td>1</td>\n",
       "      <td>0</td>\n",
       "    </tr>\n",
       "  </tbody>\n",
       "</table>\n",
       "<p>6 rows × 24 columns</p>\n",
       "</div>"
      ],
      "text/plain": [
       "       addressed  astronauts  better  economy  high  launched  market  mars  \\\n",
       "Doc 1          0           0       1        1     0         0       0     0   \n",
       "Doc 2          1           0       0        1     0         0       0     0   \n",
       "Doc 3          0           0       0        0     0         1       0     0   \n",
       "Doc 4          0           0       0        0     0         0       0     1   \n",
       "Doc 5          0           0       0        0     1         0       1     0   \n",
       "Doc 6          0           1       0        0     0         0       0     0   \n",
       "\n",
       "       mission  missions  ...  planning  president  reached  rocket  space  \\\n",
       "Doc 1        0         0  ...         0          0        0       0      0   \n",
       "Doc 2        0         0  ...         0          1        0       0      0   \n",
       "Doc 3        0         0  ...         0          0        0       1      0   \n",
       "Doc 4        1         0  ...         1          0        0       0      0   \n",
       "Doc 5        0         0  ...         0          0        1       0      0   \n",
       "Doc 6        0         1  ...         0          0        0       0      1   \n",
       "\n",
       "       spacex  stock  time  train  working  \n",
       "Doc 1       0      0     0      0        1  \n",
       "Doc 2       0      0     0      0        0  \n",
       "Doc 3       1      0     0      0        0  \n",
       "Doc 4       0      0     0      0        0  \n",
       "Doc 5       0      1     1      0        0  \n",
       "Doc 6       0      0     0      1        0  \n",
       "\n",
       "[6 rows x 24 columns]"
      ]
     },
     "metadata": {},
     "output_type": "display_data"
    }
   ],
   "source": [
    "# 3. Convert to DataFrame for inspection\n",
    "example_dtm = pd.DataFrame(X.toarray(), columns=features)\n",
    "example_dtm.index = [f\"Doc {i+1}\" for i in range(len(documents))]\n",
    "display(example_dtm)"
   ]
  },
  {
   "cell_type": "code",
   "execution_count": 7,
   "id": "3a60390b",
   "metadata": {},
   "outputs": [],
   "source": [
    "# 4. Visualize word frequencies\n",
    "word_freq_example = pd.Series(np.asarray(X.sum(axis=0)).flatten(), index=features)\n",
    "top_words_example = word_freq_example.sort_values(ascending=False)"
   ]
  },
  {
   "cell_type": "code",
   "execution_count": 8,
   "id": "875dd542",
   "metadata": {},
   "outputs": [
    {
     "data": {
      "image/png": "[encoded data removed]",
      "text/plain": [
       "<Figure size 504x288 with 1 Axes>"
      ]
     },
     "metadata": {
      "needs_background": "light"
     },
     "output_type": "display_data"
    }
   ],
   "source": [
    "plt.figure(figsize=(7, 4))\n",
    "sns.barplot(x=top_words_example.values, y=top_words_example.index, palette=\"mako\")\n",
    "plt.title(\"Word Frequencies in Example Documents\")\n",
    "plt.xlabel(\"Count\")\n",
    "plt.ylabel(\"Word\")\n",
    "plt.show()"
   ]
  },
  {
   "cell_type": "code",
   "execution_count": 11,
   "id": "d1f9d6d7",
   "metadata": {},
   "outputs": [
    {
     "name": "stdout",
     "output_type": "stream",
     "text": [
      "Topic #1:\n",
      "economy new orbit launched spacex\n",
      "Topic #2:\n",
      "nasa time stock reached high\n"
     ]
    }
   ],
   "source": [
    "# Fit LDA model\n",
    "lda = LatentDirichletAllocation(n_components=2, random_state=42)\n",
    "lda.fit(X)\n",
    "\n",
    "# Display topics\n",
    "def print_topics(model, feature_names, n_top_words):\n",
    "    for idx, topic in enumerate(model.components_):\n",
    "        print(f\"Topic #{idx+1}:\")\n",
    "        print(\" \".join([feature_names[i] for i in topic.argsort()[:-n_top_words - 1:-1]]))\n",
    "\n",
    "print_topics(lda, vectorizer.get_feature_names_out(), 5)"
   ]
  }
 ],
 "metadata": {
  "kernelspec": {
   "display_name": "py39",
   "language": "python",
   "name": "py39"
  },
  "language_info": {
   "codemirror_mode": {
    "name": "ipython",
    "version": 3
   },
   "file_extension": ".py",
   "mimetype": "text/x-python",
   "name": "python",
   "nbconvert_exporter": "python",
   "pygments_lexer": "ipython3",
   "version": "3.9.12"
  }
 },
 "nbformat": 4,
 "nbformat_minor": 5
}
